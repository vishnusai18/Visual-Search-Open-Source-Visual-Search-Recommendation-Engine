{
 "cells": [
  {
   "cell_type": "markdown",
   "id": "d9c66416-c07a-4fcb-b4fb-247db72b31ba",
   "metadata": {},
   "source": [
    "### This NoteBook Information\n",
    "- This Notebook contains the code & steps involved in building faiss index which helps in faster retriveing the recommended embeddings files"
   ]
  },
  {
   "cell_type": "markdown",
   "id": "fa177807-122a-4259-bb5c-f68966efc83d",
   "metadata": {},
   "source": [
    "#### Libraries"
   ]
  },
  {
   "cell_type": "code",
   "execution_count": 1,
   "id": "fb53c7f2-74c1-44ae-97e1-5e02cd928acf",
   "metadata": {},
   "outputs": [],
   "source": [
    "import numpy as np\n",
    "import faiss # Facebook's open sourse library used for search simialrity\n",
    "import os"
   ]
  },
  {
   "cell_type": "markdown",
   "id": "add97dd2-1ecc-4a86-bbae-426175e2fcc1",
   "metadata": {},
   "source": [
    "#### Fixed Variables"
   ]
  },
  {
   "cell_type": "code",
   "execution_count": 2,
   "id": "4ad124e4-c2f6-4b7d-8ca0-ee3b823423d9",
   "metadata": {},
   "outputs": [],
   "source": [
    "EMBEDDINGS_PATH = \"./embeddings/image_embeddings.npy\"\n",
    "FILENAMES_PATH = \"./embeddings/image_filenames.npy\"\n",
    "INDEX_SAVE_PATH = \"./embeddings/faiss_index.index\" # Index path to store"
   ]
  },
  {
   "cell_type": "markdown",
   "id": "24afc023-fcac-4835-9701-634508a81cde",
   "metadata": {},
   "source": [
    "#### Loading the saved embeddings"
   ]
  },
  {
   "cell_type": "code",
   "execution_count": null,
   "id": "a05b29f8-12ea-467e-ab21-fc381690bfab",
   "metadata": {},
   "outputs": [],
   "source": [
    "embeddings = np.load(EMBEDDING_PATH).astype(\"float32\")"
   ]
  },
  {
   "cell_type": "markdown",
   "id": "ac33b34b-7c69-49ca-8b61-7c9defdd1347",
   "metadata": {},
   "source": [
    "#### generating the faiss index"
   ]
  },
  {
   "cell_type": "code",
   "execution_count": 13,
   "id": "46b07d28-f970-4272-809f-c6e6ff2bc5f2",
   "metadata": {},
   "outputs": [
    {
     "name": "stdout",
     "output_type": "stream",
     "text": [
      "✅ FAISS index saved to embeddings/faiss_index.index with 60000 vectors.\n"
     ]
    }
   ],
   "source": [
    "faiss.normalize_L2(embeddings) # Normalize for cosine similarity\n",
    "\n",
    "\n",
    "index = faiss.IndexFlatL2(embeddings.shape[1])  # 512 for CLIP\n",
    "index.add(embeddings) # Create FAISS index (L2 = cosine because normalized) \n",
    "\n",
    "\n",
    "os.makedirs(os.path.dirname(INDEX_PATH), exist_ok=True)\n",
    "faiss.write_index(index, INDEX_PATH) # saving the index to calculate cosine similarity efficiently\n",
    "\n",
    "print(f\"✅ FAISS index saved to {INDEX_PATH} with {index.ntotal} vectors.\")\n"
   ]
  }
 ],
 "metadata": {
  "kernelspec": {
   "display_name": "Python 3 (ipykernel)",
   "language": "python",
   "name": "python3"
  },
  "language_info": {
   "codemirror_mode": {
    "name": "ipython",
    "version": 3
   },
   "file_extension": ".py",
   "mimetype": "text/x-python",
   "name": "python",
   "nbconvert_exporter": "python",
   "pygments_lexer": "ipython3",
   "version": "3.10.0"
  }
 },
 "nbformat": 4,
 "nbformat_minor": 5
}
